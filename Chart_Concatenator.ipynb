{
 "cells": [
  {
   "cell_type": "code",
   "execution_count": 1,
   "metadata": {},
   "outputs": [],
   "source": [
    "# Import python libraries\n",
    "from statistics import mean\n",
    "import numpy as np\n",
    "import tensorflow as tf\n",
    "from tensorflow import keras\n",
    "from tensorflow.keras import layers\n",
    "import seaborn as sns\n",
    "from collections import defaultdict\n",
    "import pandas as pd\n",
    "import matplotlib.pyplot as plt\n",
    "from sklearn.linear_model import LinearRegression\n",
    "from sklearn.model_selection import train_test_split\n",
    "from sklearn.metrics import r2_score, mean_squared_error\n",
    "from IPython import display\n",
    "%matplotlib inline"
   ]
  },
  {
   "cell_type": "code",
   "execution_count": 2,
   "metadata": {},
   "outputs": [
    {
     "data": {
      "text/html": [
       "<div>\n",
       "<style scoped>\n",
       "    .dataframe tbody tr th:only-of-type {\n",
       "        vertical-align: middle;\n",
       "    }\n",
       "\n",
       "    .dataframe tbody tr th {\n",
       "        vertical-align: top;\n",
       "    }\n",
       "\n",
       "    .dataframe thead th {\n",
       "        text-align: right;\n",
       "    }\n",
       "</style>\n",
       "<table border=\"1\" class=\"dataframe\">\n",
       "  <thead>\n",
       "    <tr style=\"text-align: right;\">\n",
       "      <th></th>\n",
       "      <th>Unix Timestamp</th>\n",
       "      <th>Date</th>\n",
       "      <th>Symbol</th>\n",
       "      <th>Open</th>\n",
       "      <th>High</th>\n",
       "      <th>Low</th>\n",
       "      <th>Close</th>\n",
       "      <th>Volume</th>\n",
       "    </tr>\n",
       "  </thead>\n",
       "  <tbody>\n",
       "    <tr>\n",
       "      <th>0</th>\n",
       "      <td>1546300800000</td>\n",
       "      <td>2019-01-01 00:00:00</td>\n",
       "      <td>ETHUSD</td>\n",
       "      <td>130.8</td>\n",
       "      <td>130.80</td>\n",
       "      <td>130.0</td>\n",
       "      <td>130.0</td>\n",
       "      <td>0.063440</td>\n",
       "    </tr>\n",
       "    <tr>\n",
       "      <th>1</th>\n",
       "      <td>1546300860000</td>\n",
       "      <td>2019-01-01 00:01:00</td>\n",
       "      <td>ETHUSD</td>\n",
       "      <td>130.0</td>\n",
       "      <td>131.00</td>\n",
       "      <td>130.0</td>\n",
       "      <td>130.0</td>\n",
       "      <td>111.558409</td>\n",
       "    </tr>\n",
       "    <tr>\n",
       "      <th>2</th>\n",
       "      <td>1546300920000</td>\n",
       "      <td>2019-01-01 00:02:00</td>\n",
       "      <td>ETHUSD</td>\n",
       "      <td>130.0</td>\n",
       "      <td>130.00</td>\n",
       "      <td>130.0</td>\n",
       "      <td>130.0</td>\n",
       "      <td>31.941583</td>\n",
       "    </tr>\n",
       "    <tr>\n",
       "      <th>3</th>\n",
       "      <td>1546300980000</td>\n",
       "      <td>2019-01-01 00:03:00</td>\n",
       "      <td>ETHUSD</td>\n",
       "      <td>130.0</td>\n",
       "      <td>131.07</td>\n",
       "      <td>130.0</td>\n",
       "      <td>130.0</td>\n",
       "      <td>4.360000</td>\n",
       "    </tr>\n",
       "    <tr>\n",
       "      <th>4</th>\n",
       "      <td>1546301040000</td>\n",
       "      <td>2019-01-01 00:04:00</td>\n",
       "      <td>ETHUSD</td>\n",
       "      <td>130.0</td>\n",
       "      <td>130.00</td>\n",
       "      <td>130.0</td>\n",
       "      <td>130.0</td>\n",
       "      <td>0.000000</td>\n",
       "    </tr>\n",
       "  </tbody>\n",
       "</table>\n",
       "</div>"
      ],
      "text/plain": [
       "   Unix Timestamp                 Date  Symbol   Open    High    Low  Close  \\\n",
       "0   1546300800000  2019-01-01 00:00:00  ETHUSD  130.8  130.80  130.0  130.0   \n",
       "1   1546300860000  2019-01-01 00:01:00  ETHUSD  130.0  131.00  130.0  130.0   \n",
       "2   1546300920000  2019-01-01 00:02:00  ETHUSD  130.0  130.00  130.0  130.0   \n",
       "3   1546300980000  2019-01-01 00:03:00  ETHUSD  130.0  131.07  130.0  130.0   \n",
       "4   1546301040000  2019-01-01 00:04:00  ETHUSD  130.0  130.00  130.0  130.0   \n",
       "\n",
       "       Volume  \n",
       "0    0.063440  \n",
       "1  111.558409  \n",
       "2   31.941583  \n",
       "3    4.360000  \n",
       "4    0.000000  "
      ]
     },
     "execution_count": 2,
     "metadata": {},
     "output_type": "execute_result"
    }
   ],
   "source": [
    "# Load chart from file\n",
    "chart1 = pd.read_csv('gemini_ETHUSD_2019_1min.csv', skiprows=[0])  # Read file with chart\n",
    "chart1 = chart1.sort_values(by=['Date']) # Since it is in a reverse order, sort the chart ascendingly\n",
    "chart1 = chart1.reset_index(drop=True)   # Reset old index\n",
    "chart1.head()"
   ]
  },
  {
   "cell_type": "code",
   "execution_count": 3,
   "metadata": {},
   "outputs": [
    {
     "data": {
      "text/plain": [
       "[<matplotlib.lines.Line2D at 0x1fc53d6e6a0>]"
      ]
     },
     "execution_count": 3,
     "metadata": {},
     "output_type": "execute_result"
    },
    {
     "data": {
      "image/png": "[encoded data removed]",
      "text/plain": [
       "<Figure size 432x288 with 1 Axes>"
      ]
     },
     "metadata": {
      "needs_background": "light"
     },
     "output_type": "display_data"
    }
   ],
   "source": [
    "# Plot chart\n",
    "plt.plot(chart1['Open'])"
   ]
  },
  {
   "cell_type": "code",
   "execution_count": 4,
   "metadata": {},
   "outputs": [
    {
     "data": {
      "text/html": [
       "<div>\n",
       "<style scoped>\n",
       "    .dataframe tbody tr th:only-of-type {\n",
       "        vertical-align: middle;\n",
       "    }\n",
       "\n",
       "    .dataframe tbody tr th {\n",
       "        vertical-align: top;\n",
       "    }\n",
       "\n",
       "    .dataframe thead th {\n",
       "        text-align: right;\n",
       "    }\n",
       "</style>\n",
       "<table border=\"1\" class=\"dataframe\">\n",
       "  <thead>\n",
       "    <tr style=\"text-align: right;\">\n",
       "      <th></th>\n",
       "      <th>Unix Timestamp</th>\n",
       "      <th>Date</th>\n",
       "      <th>Symbol</th>\n",
       "      <th>Open</th>\n",
       "      <th>High</th>\n",
       "      <th>Low</th>\n",
       "      <th>Close</th>\n",
       "      <th>Volume</th>\n",
       "    </tr>\n",
       "  </thead>\n",
       "  <tbody>\n",
       "    <tr>\n",
       "      <th>0</th>\n",
       "      <td>1577836800000</td>\n",
       "      <td>2020-01-01 00:00:00</td>\n",
       "      <td>ETHUSD</td>\n",
       "      <td>128.84</td>\n",
       "      <td>128.84</td>\n",
       "      <td>128.74</td>\n",
       "      <td>128.74</td>\n",
       "      <td>0.010000</td>\n",
       "    </tr>\n",
       "    <tr>\n",
       "      <th>1</th>\n",
       "      <td>1577836860000</td>\n",
       "      <td>2020-01-01 00:01:00</td>\n",
       "      <td>ETHUSD</td>\n",
       "      <td>128.74</td>\n",
       "      <td>128.74</td>\n",
       "      <td>128.74</td>\n",
       "      <td>128.74</td>\n",
       "      <td>0.000000</td>\n",
       "    </tr>\n",
       "    <tr>\n",
       "      <th>2</th>\n",
       "      <td>1577836920000</td>\n",
       "      <td>2020-01-01 00:02:00</td>\n",
       "      <td>ETHUSD</td>\n",
       "      <td>128.74</td>\n",
       "      <td>128.74</td>\n",
       "      <td>128.74</td>\n",
       "      <td>128.74</td>\n",
       "      <td>0.000000</td>\n",
       "    </tr>\n",
       "    <tr>\n",
       "      <th>3</th>\n",
       "      <td>1577836980000</td>\n",
       "      <td>2020-01-01 00:03:00</td>\n",
       "      <td>ETHUSD</td>\n",
       "      <td>128.74</td>\n",
       "      <td>128.74</td>\n",
       "      <td>128.74</td>\n",
       "      <td>128.74</td>\n",
       "      <td>0.000000</td>\n",
       "    </tr>\n",
       "    <tr>\n",
       "      <th>4</th>\n",
       "      <td>1577837040000</td>\n",
       "      <td>2020-01-01 00:04:00</td>\n",
       "      <td>ETHUSD</td>\n",
       "      <td>128.74</td>\n",
       "      <td>128.74</td>\n",
       "      <td>128.49</td>\n",
       "      <td>128.50</td>\n",
       "      <td>4.039458</td>\n",
       "    </tr>\n",
       "  </tbody>\n",
       "</table>\n",
       "</div>"
      ],
      "text/plain": [
       "   Unix Timestamp                 Date  Symbol    Open    High     Low  \\\n",
       "0   1577836800000  2020-01-01 00:00:00  ETHUSD  128.84  128.84  128.74   \n",
       "1   1577836860000  2020-01-01 00:01:00  ETHUSD  128.74  128.74  128.74   \n",
       "2   1577836920000  2020-01-01 00:02:00  ETHUSD  128.74  128.74  128.74   \n",
       "3   1577836980000  2020-01-01 00:03:00  ETHUSD  128.74  128.74  128.74   \n",
       "4   1577837040000  2020-01-01 00:04:00  ETHUSD  128.74  128.74  128.49   \n",
       "\n",
       "    Close    Volume  \n",
       "0  128.74  0.010000  \n",
       "1  128.74  0.000000  \n",
       "2  128.74  0.000000  \n",
       "3  128.74  0.000000  \n",
       "4  128.50  4.039458  "
      ]
     },
     "execution_count": 4,
     "metadata": {},
     "output_type": "execute_result"
    }
   ],
   "source": [
    "# Load chart from file\n",
    "chart2 = pd.read_csv('gemini_ETHUSD_2020_1min.csv', skiprows=[0])  # Read file with chart\n",
    "chart2 = chart2.sort_values(by=['Date']) # Since it is in a reverse order, sort the chart ascendingly\n",
    "chart2 = chart2.reset_index(drop=True)   # Reset old index\n",
    "chart2.head()"
   ]
  },
  {
   "cell_type": "code",
   "execution_count": 5,
   "metadata": {},
   "outputs": [
    {
     "data": {
      "text/plain": [
       "[<matplotlib.lines.Line2D at 0x1fc5ea4e898>]"
      ]
     },
     "execution_count": 5,
     "metadata": {},
     "output_type": "execute_result"
    },
    {
     "data": {
      "image/png": "[encoded data removed]",
      "text/plain": [
       "<Figure size 432x288 with 1 Axes>"
      ]
     },
     "metadata": {
      "needs_background": "light"
     },
     "output_type": "display_data"
    }
   ],
   "source": [
    "# Plot chart\n",
    "plt.plot(chart2['Open'])"
   ]
  },
  {
   "cell_type": "code",
   "execution_count": 6,
   "metadata": {},
   "outputs": [
    {
     "data": {
      "text/html": [
       "<div>\n",
       "<style scoped>\n",
       "    .dataframe tbody tr th:only-of-type {\n",
       "        vertical-align: middle;\n",
       "    }\n",
       "\n",
       "    .dataframe tbody tr th {\n",
       "        vertical-align: top;\n",
       "    }\n",
       "\n",
       "    .dataframe thead th {\n",
       "        text-align: right;\n",
       "    }\n",
       "</style>\n",
       "<table border=\"1\" class=\"dataframe\">\n",
       "  <thead>\n",
       "    <tr style=\"text-align: right;\">\n",
       "      <th></th>\n",
       "      <th>Unix Timestamp</th>\n",
       "      <th>Date</th>\n",
       "      <th>Symbol</th>\n",
       "      <th>Open</th>\n",
       "      <th>High</th>\n",
       "      <th>Low</th>\n",
       "      <th>Close</th>\n",
       "      <th>Volume</th>\n",
       "    </tr>\n",
       "  </thead>\n",
       "  <tbody>\n",
       "    <tr>\n",
       "      <th>0</th>\n",
       "      <td>1609459200000</td>\n",
       "      <td>2021-01-01 00:00:00</td>\n",
       "      <td>ETHUSD</td>\n",
       "      <td>737.39</td>\n",
       "      <td>738.34</td>\n",
       "      <td>737.39</td>\n",
       "      <td>738.34</td>\n",
       "      <td>55.405740</td>\n",
       "    </tr>\n",
       "    <tr>\n",
       "      <th>1</th>\n",
       "      <td>1609459260000</td>\n",
       "      <td>2021-01-01 00:01:00</td>\n",
       "      <td>ETHUSD</td>\n",
       "      <td>738.34</td>\n",
       "      <td>740.30</td>\n",
       "      <td>738.34</td>\n",
       "      <td>740.30</td>\n",
       "      <td>11.146143</td>\n",
       "    </tr>\n",
       "    <tr>\n",
       "      <th>2</th>\n",
       "      <td>1609459320000</td>\n",
       "      <td>2021-01-01 00:02:00</td>\n",
       "      <td>ETHUSD</td>\n",
       "      <td>740.30</td>\n",
       "      <td>740.30</td>\n",
       "      <td>739.05</td>\n",
       "      <td>739.05</td>\n",
       "      <td>0.221670</td>\n",
       "    </tr>\n",
       "    <tr>\n",
       "      <th>3</th>\n",
       "      <td>1609459380000</td>\n",
       "      <td>2021-01-01 00:03:00</td>\n",
       "      <td>ETHUSD</td>\n",
       "      <td>739.05</td>\n",
       "      <td>739.65</td>\n",
       "      <td>738.83</td>\n",
       "      <td>739.65</td>\n",
       "      <td>3.259000</td>\n",
       "    </tr>\n",
       "    <tr>\n",
       "      <th>4</th>\n",
       "      <td>1609459440000</td>\n",
       "      <td>2021-01-01 00:04:00</td>\n",
       "      <td>ETHUSD</td>\n",
       "      <td>739.65</td>\n",
       "      <td>739.65</td>\n",
       "      <td>738.81</td>\n",
       "      <td>738.81</td>\n",
       "      <td>0.203800</td>\n",
       "    </tr>\n",
       "  </tbody>\n",
       "</table>\n",
       "</div>"
      ],
      "text/plain": [
       "   Unix Timestamp                 Date  Symbol    Open    High     Low  \\\n",
       "0   1609459200000  2021-01-01 00:00:00  ETHUSD  737.39  738.34  737.39   \n",
       "1   1609459260000  2021-01-01 00:01:00  ETHUSD  738.34  740.30  738.34   \n",
       "2   1609459320000  2021-01-01 00:02:00  ETHUSD  740.30  740.30  739.05   \n",
       "3   1609459380000  2021-01-01 00:03:00  ETHUSD  739.05  739.65  738.83   \n",
       "4   1609459440000  2021-01-01 00:04:00  ETHUSD  739.65  739.65  738.81   \n",
       "\n",
       "    Close     Volume  \n",
       "0  738.34  55.405740  \n",
       "1  740.30  11.146143  \n",
       "2  739.05   0.221670  \n",
       "3  739.65   3.259000  \n",
       "4  738.81   0.203800  "
      ]
     },
     "execution_count": 6,
     "metadata": {},
     "output_type": "execute_result"
    }
   ],
   "source": [
    "# Load chart from file\n",
    "chart3 = pd.read_csv('gemini_ETHUSD_2021_1min.csv', skiprows=[0])  # Read file with chart\n",
    "chart3 = chart3.sort_values(by=['Date']) # Since it is in a reverse order, sort the chart ascendingly\n",
    "chart3 = chart3.reset_index(drop=True)   # Reset old index\n",
    "chart3.head()"
   ]
  },
  {
   "cell_type": "code",
   "execution_count": 7,
   "metadata": {},
   "outputs": [
    {
     "data": {
      "text/plain": [
       "[<matplotlib.lines.Line2D at 0x1fc5a099588>]"
      ]
     },
     "execution_count": 7,
     "metadata": {},
     "output_type": "execute_result"
    },
    {
     "data": {
      "image/png": "[encoded data removed]",
      "text/plain": [
       "<Figure size 432x288 with 1 Axes>"
      ]
     },
     "metadata": {
      "needs_background": "light"
     },
     "output_type": "display_data"
    }
   ],
   "source": [
    "# Plot chart\n",
    "plt.plot(chart3['Open'])"
   ]
  },
  {
   "cell_type": "code",
   "execution_count": 14,
   "metadata": {},
   "outputs": [],
   "source": [
    "frames = [chart1, chart2, chart3]\n",
    "concat_chart = pd.concat(frames)\n",
    "concat_chart = concat_chart.reset_index(drop=True)"
   ]
  },
  {
   "cell_type": "code",
   "execution_count": 18,
   "metadata": {},
   "outputs": [
    {
     "data": {
      "text/html": [
       "<div>\n",
       "<style scoped>\n",
       "    .dataframe tbody tr th:only-of-type {\n",
       "        vertical-align: middle;\n",
       "    }\n",
       "\n",
       "    .dataframe tbody tr th {\n",
       "        vertical-align: top;\n",
       "    }\n",
       "\n",
       "    .dataframe thead th {\n",
       "        text-align: right;\n",
       "    }\n",
       "</style>\n",
       "<table border=\"1\" class=\"dataframe\">\n",
       "  <thead>\n",
       "    <tr style=\"text-align: right;\">\n",
       "      <th></th>\n",
       "      <th>Unix Timestamp</th>\n",
       "      <th>Date</th>\n",
       "      <th>Symbol</th>\n",
       "      <th>Open</th>\n",
       "      <th>High</th>\n",
       "      <th>Low</th>\n",
       "      <th>Close</th>\n",
       "      <th>Volume</th>\n",
       "    </tr>\n",
       "  </thead>\n",
       "  <tbody>\n",
       "    <tr>\n",
       "      <th>0</th>\n",
       "      <td>1546300800000</td>\n",
       "      <td>2019-01-01 00:00:00</td>\n",
       "      <td>ETHUSD</td>\n",
       "      <td>130.8</td>\n",
       "      <td>130.80</td>\n",
       "      <td>130.0</td>\n",
       "      <td>130.0</td>\n",
       "      <td>0.063440</td>\n",
       "    </tr>\n",
       "    <tr>\n",
       "      <th>1</th>\n",
       "      <td>1546300860000</td>\n",
       "      <td>2019-01-01 00:01:00</td>\n",
       "      <td>ETHUSD</td>\n",
       "      <td>130.0</td>\n",
       "      <td>131.00</td>\n",
       "      <td>130.0</td>\n",
       "      <td>130.0</td>\n",
       "      <td>111.558409</td>\n",
       "    </tr>\n",
       "    <tr>\n",
       "      <th>2</th>\n",
       "      <td>1546300920000</td>\n",
       "      <td>2019-01-01 00:02:00</td>\n",
       "      <td>ETHUSD</td>\n",
       "      <td>130.0</td>\n",
       "      <td>130.00</td>\n",
       "      <td>130.0</td>\n",
       "      <td>130.0</td>\n",
       "      <td>31.941583</td>\n",
       "    </tr>\n",
       "    <tr>\n",
       "      <th>3</th>\n",
       "      <td>1546300980000</td>\n",
       "      <td>2019-01-01 00:03:00</td>\n",
       "      <td>ETHUSD</td>\n",
       "      <td>130.0</td>\n",
       "      <td>131.07</td>\n",
       "      <td>130.0</td>\n",
       "      <td>130.0</td>\n",
       "      <td>4.360000</td>\n",
       "    </tr>\n",
       "    <tr>\n",
       "      <th>4</th>\n",
       "      <td>1546301040000</td>\n",
       "      <td>2019-01-01 00:04:00</td>\n",
       "      <td>ETHUSD</td>\n",
       "      <td>130.0</td>\n",
       "      <td>130.00</td>\n",
       "      <td>130.0</td>\n",
       "      <td>130.0</td>\n",
       "      <td>0.000000</td>\n",
       "    </tr>\n",
       "  </tbody>\n",
       "</table>\n",
       "</div>"
      ],
      "text/plain": [
       "   Unix Timestamp                 Date  Symbol   Open    High    Low  Close  \\\n",
       "0   1546300800000  2019-01-01 00:00:00  ETHUSD  130.8  130.80  130.0  130.0   \n",
       "1   1546300860000  2019-01-01 00:01:00  ETHUSD  130.0  131.00  130.0  130.0   \n",
       "2   1546300920000  2019-01-01 00:02:00  ETHUSD  130.0  130.00  130.0  130.0   \n",
       "3   1546300980000  2019-01-01 00:03:00  ETHUSD  130.0  131.07  130.0  130.0   \n",
       "4   1546301040000  2019-01-01 00:04:00  ETHUSD  130.0  130.00  130.0  130.0   \n",
       "\n",
       "       Volume  \n",
       "0    0.063440  \n",
       "1  111.558409  \n",
       "2   31.941583  \n",
       "3    4.360000  \n",
       "4    0.000000  "
      ]
     },
     "execution_count": 18,
     "metadata": {},
     "output_type": "execute_result"
    }
   ],
   "source": [
    "concat_chart.head()"
   ]
  },
  {
   "cell_type": "code",
   "execution_count": 20,
   "metadata": {},
   "outputs": [
    {
     "data": {
      "text/plain": [
       "[<matplotlib.lines.Line2D at 0x1fc5fe9c7f0>]"
      ]
     },
     "execution_count": 20,
     "metadata": {},
     "output_type": "execute_result"
    },
    {
     "data": {
      "image/png": "[encoded data removed]",
      "text/plain": [
       "<Figure size 432x288 with 1 Axes>"
      ]
     },
     "metadata": {
      "needs_background": "light"
     },
     "output_type": "display_data"
    }
   ],
   "source": [
    "# Plot chart\n",
    "plt.plot(concat_chart['Open'])"
   ]
  },
  {
   "cell_type": "code",
   "execution_count": 25,
   "metadata": {},
   "outputs": [],
   "source": [
    "#concat_chart.to_csv('ETH_concat_chart.csv', index=False, header=['Unix Timestamp', 'Date', 'Symbol', 'Open', 'High', 'Low', 'Close', 'Volume'])\n",
    "concat_chart.to_csv('ETH_concat_chart.csv', index=False)"
   ]
  }
 ],
 "metadata": {
  "kernelspec": {
   "display_name": "Python 3",
   "language": "python",
   "name": "python3"
  },
  "language_info": {
   "codemirror_mode": {
    "name": "ipython",
    "version": 3
   },
   "file_extension": ".py",
   "mimetype": "text/x-python",
   "name": "python",
   "nbconvert_exporter": "python",
   "pygments_lexer": "ipython3",
   "version": "3.7.3"
  }
 },
 "nbformat": 4,
 "nbformat_minor": 2
}
